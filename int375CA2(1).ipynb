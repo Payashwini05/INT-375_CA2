{
 "cells": [
  {
   "cell_type": "code",
   "execution_count": 1,
   "id": "1e22fa07-6688-4129-bae7-0da5ce59a990",
   "metadata": {},
   "outputs": [],
   "source": [
    "# import the required module / sub-module \n"
   ]
  },
  {
   "cell_type": "code",
   "execution_count": 2,
   "id": "90aaca2f-8c11-4dd4-a504-50a7d8bf6574",
   "metadata": {},
   "outputs": [],
   "source": [
    "import numpy as np # for handling missing data\n",
    "import pandas as pd # for data manipulation and cleaning\n",
    "import matplotlib.pyplot as plt # for plotting data records\n",
    "import seaborn as sns # for advanced visualization"
   ]
  },
  {
   "cell_type": "code",
   "execution_count": 3,
   "id": "c42c13d5-53e4-4d80-ac5d-dcdc8da56cdb",
   "metadata": {},
   "outputs": [],
   "source": [
    "# Load the dataset\n",
    "df = pd.read_csv(r\"C:\\Users\\payas\\Downloads\\educational_dataset_india_5000.csv\")\n"
   ]
  },
  {
   "cell_type": "code",
   "execution_count": 7,
   "id": "2a18f975-d4ca-4c9d-bc04-19463c56f507",
   "metadata": {},
   "outputs": [
    {
     "data": {
      "text/html": [
       "<div>\n",
       "<style scoped>\n",
       "    .dataframe tbody tr th:only-of-type {\n",
       "        vertical-align: middle;\n",
       "    }\n",
       "\n",
       "    .dataframe tbody tr th {\n",
       "        vertical-align: top;\n",
       "    }\n",
       "\n",
       "    .dataframe thead th {\n",
       "        text-align: right;\n",
       "    }\n",
       "</style>\n",
       "<table border=\"1\" class=\"dataframe\">\n",
       "  <thead>\n",
       "    <tr style=\"text-align: right;\">\n",
       "      <th></th>\n",
       "      <th>Student ID</th>\n",
       "      <th>Student Name</th>\n",
       "      <th>Age</th>\n",
       "      <th>Gender</th>\n",
       "      <th>State/City</th>\n",
       "      <th>School/Institution Name</th>\n",
       "      <th>Education Level</th>\n",
       "      <th>Stream/Field of Study</th>\n",
       "      <th>Marks Percentage</th>\n",
       "      <th>No. of Students in Class</th>\n",
       "      <th>Scholarship Status</th>\n",
       "    </tr>\n",
       "  </thead>\n",
       "  <tbody>\n",
       "    <tr>\n",
       "      <th>0</th>\n",
       "      <td>SID1</td>\n",
       "      <td>Aryan</td>\n",
       "      <td>8.0</td>\n",
       "      <td>Male</td>\n",
       "      <td>Lucknow</td>\n",
       "      <td>School_85</td>\n",
       "      <td>Postgraduate</td>\n",
       "      <td>Arts</td>\n",
       "      <td>75.33</td>\n",
       "      <td>27</td>\n",
       "      <td>No</td>\n",
       "    </tr>\n",
       "    <tr>\n",
       "      <th>1</th>\n",
       "      <td>SID2</td>\n",
       "      <td>Priya</td>\n",
       "      <td>19.0</td>\n",
       "      <td>Mle</td>\n",
       "      <td>Delhi</td>\n",
       "      <td>School_99</td>\n",
       "      <td>Secondary</td>\n",
       "      <td>NaN</td>\n",
       "      <td>52.00</td>\n",
       "      <td>55</td>\n",
       "      <td>Yes</td>\n",
       "    </tr>\n",
       "    <tr>\n",
       "      <th>2</th>\n",
       "      <td>SID3</td>\n",
       "      <td>Priya</td>\n",
       "      <td>19.0</td>\n",
       "      <td>Others</td>\n",
       "      <td>Pune</td>\n",
       "      <td>School_91</td>\n",
       "      <td>Higher Secondary</td>\n",
       "      <td>Science</td>\n",
       "      <td>37.96</td>\n",
       "      <td>20</td>\n",
       "      <td>No</td>\n",
       "    </tr>\n",
       "    <tr>\n",
       "      <th>3</th>\n",
       "      <td>SID4</td>\n",
       "      <td>Aryan</td>\n",
       "      <td>6.0</td>\n",
       "      <td>Female</td>\n",
       "      <td>Bangalore</td>\n",
       "      <td>School_87</td>\n",
       "      <td>Primary</td>\n",
       "      <td>NaN</td>\n",
       "      <td>45.39</td>\n",
       "      <td>31</td>\n",
       "      <td>No</td>\n",
       "    </tr>\n",
       "    <tr>\n",
       "      <th>4</th>\n",
       "      <td>SID5</td>\n",
       "      <td>Pooja</td>\n",
       "      <td>9.0</td>\n",
       "      <td>Female</td>\n",
       "      <td>Lucknow</td>\n",
       "      <td>School_74</td>\n",
       "      <td>Undergraduate</td>\n",
       "      <td>Science</td>\n",
       "      <td>50.53</td>\n",
       "      <td>28</td>\n",
       "      <td>Yes</td>\n",
       "    </tr>\n",
       "  </tbody>\n",
       "</table>\n",
       "</div>"
      ],
      "text/plain": [
       "  Student ID Student Name   Age  Gender State/City School/Institution Name  \\\n",
       "0       SID1        Aryan   8.0    Male    Lucknow               School_85   \n",
       "1       SID2        Priya  19.0     Mle      Delhi               School_99   \n",
       "2       SID3        Priya  19.0  Others       Pune               School_91   \n",
       "3       SID4        Aryan   6.0  Female  Bangalore               School_87   \n",
       "4       SID5        Pooja   9.0  Female    Lucknow               School_74   \n",
       "\n",
       "    Education Level Stream/Field of Study  Marks Percentage  \\\n",
       "0      Postgraduate                  Arts             75.33   \n",
       "1         Secondary                   NaN             52.00   \n",
       "2  Higher Secondary               Science             37.96   \n",
       "3           Primary                   NaN             45.39   \n",
       "4     Undergraduate               Science             50.53   \n",
       "\n",
       "   No. of Students in Class Scholarship Status  \n",
       "0                        27                 No  \n",
       "1                        55                Yes  \n",
       "2                        20                 No  \n",
       "3                        31                 No  \n",
       "4                        28                Yes  "
      ]
     },
     "execution_count": 7,
     "metadata": {},
     "output_type": "execute_result"
    }
   ],
   "source": [
    "# View first few rows\n",
    "df.head()"
   ]
  },
  {
   "cell_type": "code",
   "execution_count": 8,
   "id": "038cfaa1-0d30-4b65-80e3-0f56aefa11ba",
   "metadata": {},
   "outputs": [
    {
     "data": {
      "text/plain": [
       "(5000, 11)"
      ]
     },
     "execution_count": 8,
     "metadata": {},
     "output_type": "execute_result"
    }
   ],
   "source": [
    "df.shape"
   ]
  },
  {
   "cell_type": "code",
   "execution_count": 9,
   "id": "5b235031-46fb-4bb6-8709-70fa45b307b3",
   "metadata": {},
   "outputs": [
    {
     "name": "stdout",
     "output_type": "stream",
     "text": [
      "<class 'pandas.core.frame.DataFrame'>\n",
      "RangeIndex: 5000 entries, 0 to 4999\n",
      "Data columns (total 11 columns):\n",
      " #   Column                    Non-Null Count  Dtype  \n",
      "---  ------                    --------------  -----  \n",
      " 0   Student ID                5000 non-null   object \n",
      " 1   Student Name              5000 non-null   object \n",
      " 2   Age                       4746 non-null   float64\n",
      " 3   Gender                    5000 non-null   object \n",
      " 4   State/City                5000 non-null   object \n",
      " 5   School/Institution Name   5000 non-null   object \n",
      " 6   Education Level           5000 non-null   object \n",
      " 7   Stream/Field of Study     2969 non-null   object \n",
      " 8   Marks Percentage          4828 non-null   float64\n",
      " 9   No. of Students in Class  5000 non-null   int64  \n",
      " 10  Scholarship Status        5000 non-null   object \n",
      "dtypes: float64(2), int64(1), object(8)\n",
      "memory usage: 429.8+ KB\n"
     ]
    }
   ],
   "source": [
    "# Check structure \n",
    "df.info()"
   ]
  },
  {
   "cell_type": "code",
   "execution_count": 10,
   "id": "b4ae37e9-814b-4bef-b80b-08d7a7ac09f3",
   "metadata": {},
   "outputs": [
    {
     "data": {
      "text/plain": [
       "Student ID                     0\n",
       "Student Name                   0\n",
       "Age                          254\n",
       "Gender                         0\n",
       "State/City                     0\n",
       "School/Institution Name        0\n",
       "Education Level                0\n",
       "Stream/Field of Study       2031\n",
       "Marks Percentage             172\n",
       "No. of Students in Class       0\n",
       "Scholarship Status             0\n",
       "dtype: int64"
      ]
     },
     "execution_count": 10,
     "metadata": {},
     "output_type": "execute_result"
    }
   ],
   "source": [
    "# find the missing value\n",
    "df.isnull().sum()"
   ]
  },
  {
   "cell_type": "code",
   "execution_count": 11,
   "id": "362e9181-a536-4ba0-912c-a1d2f2309af1",
   "metadata": {},
   "outputs": [
    {
     "name": "stdout",
     "output_type": "stream",
     "text": [
      "['student_id', 'student_name', 'age', 'gender', 'state/city', 'school/institution_name', 'education_level', 'stream/field_of_study', 'marks_percentage', 'no._of_students_in_class', 'scholarship_status']\n"
     ]
    }
   ],
   "source": [
    "# Convert column names to lowercase and replace spaces with underscores\n",
    "df.columns = df.columns.str.lower().str.strip().str.replace(' ', '_')\n",
    "\n",
    "print(df.columns.tolist())"
   ]
  },
  {
   "cell_type": "code",
   "execution_count": null,
   "id": "fbdb541c-8ea7-4dbe-9008-b00b6122497a",
   "metadata": {},
   "outputs": [],
   "source": []
  }
 ],
 "metadata": {
  "kernelspec": {
   "display_name": "Python 3 (ipykernel)",
   "language": "python",
   "name": "python3"
  },
  "language_info": {
   "codemirror_mode": {
    "name": "ipython",
    "version": 3
   },
   "file_extension": ".py",
   "mimetype": "text/x-python",
   "name": "python",
   "nbconvert_exporter": "python",
   "pygments_lexer": "ipython3",
   "version": "3.11.4"
  }
 },
 "nbformat": 4,
 "nbformat_minor": 5
}
